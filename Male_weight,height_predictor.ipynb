{
  "nbformat": 4,
  "nbformat_minor": 0,
  "metadata": {
    "colab": {
      "name": "Male-weight,height predictor.ipynb",
      "provenance": [],
      "authorship_tag": "ABX9TyNOD5DWlgLN0KxFcm9VRvgT",
      "include_colab_link": true
    },
    "kernelspec": {
      "name": "python3",
      "display_name": "Python 3"
    },
    "language_info": {
      "name": "python"
    }
  },
  "cells": [
    {
      "cell_type": "markdown",
      "metadata": {
        "id": "view-in-github",
        "colab_type": "text"
      },
      "source": [
        "<a href=\"https://colab.research.google.com/github/SohamSinghal/PythonProjects/blob/master/Male_weight%2Cheight_predictor.ipynb\" target=\"_parent\"><img src=\"https://colab.research.google.com/assets/colab-badge.svg\" alt=\"Open In Colab\"/></a>"
      ]
    },
    {
      "cell_type": "code",
      "metadata": {
        "id": "sjevpLAzrEZT"
      },
      "source": [
        "import numpy as np\n",
        "import pandas as pd\n",
        "import matplotlib.pyplot as pld"
      ],
      "execution_count": null,
      "outputs": []
    },
    {
      "cell_type": "code",
      "metadata": {
        "id": "ELTqK-LQrdGX"
      },
      "source": [
        "data = pd.read_csv('weight-height.csv')"
      ],
      "execution_count": null,
      "outputs": []
    },
    {
      "cell_type": "code",
      "metadata": {
        "id": "diJ8EdJerwFS"
      },
      "source": [
        "x = data.iloc[:,:-1].values\n",
        "y = data.iloc[:,-1].values"
      ],
      "execution_count": null,
      "outputs": []
    },
    {
      "cell_type": "code",
      "metadata": {
        "id": "euwDmPZCs3_d"
      },
      "source": [
        "from sklearn.preprocessing import OneHotEncoder\n",
        "from sklearn.compose import ColumnTransformer\n",
        "encode = ColumnTransformer([('encode',OneHotEncoder(),[0])],remainder = 'passthrough')\n",
        "encode.fit(x)\n",
        "x = encode.transform(x)"
      ],
      "execution_count": null,
      "outputs": []
    },
    {
      "cell_type": "code",
      "metadata": {
        "colab": {
          "base_uri": "https://localhost:8080/"
        },
        "id": "mq5wvavztydT",
        "outputId": "9a9286f0-2652-46aa-e2a2-50b73caa0224"
      },
      "source": [
        "print(x)"
      ],
      "execution_count": null,
      "outputs": [
        {
          "output_type": "stream",
          "text": [
            "[[0.0 1.0 241.8935632]\n",
            " [0.0 1.0 162.3104725]\n",
            " [0.0 1.0 212.74085559999997]\n",
            " ...\n",
            " [1.0 0.0 128.4753188]\n",
            " [1.0 0.0 163.85246130000002]\n",
            " [1.0 0.0 113.6491027]]\n"
          ],
          "name": "stdout"
        }
      ]
    },
    {
      "cell_type": "code",
      "metadata": {
        "colab": {
          "base_uri": "https://localhost:8080/"
        },
        "id": "uuUkvKeQt3Er",
        "outputId": "e834df04-fdd3-44a0-856e-b50484ebcf19"
      },
      "source": [
        "print(y)"
      ],
      "execution_count": null,
      "outputs": [
        {
          "output_type": "stream",
          "text": [
            "[73.84701702 68.78190405 74.11010539 ... 63.86799221 69.03424313\n",
            " 61.94424588]\n"
          ],
          "name": "stdout"
        }
      ]
    },
    {
      "cell_type": "code",
      "metadata": {
        "id": "BmaAL1atuAwg"
      },
      "source": [
        "from sklearn.model_selection import train_test_split\n",
        "x_train,x_test,y_train,y_test = train_test_split(x,y,test_size = 0.1)\n"
      ],
      "execution_count": null,
      "outputs": []
    },
    {
      "cell_type": "code",
      "metadata": {
        "colab": {
          "base_uri": "https://localhost:8080/"
        },
        "id": "ANGQU3r003ni",
        "outputId": "8953722c-25b5-4305-87e6-c3acbdfca467"
      },
      "source": [
        "x_train"
      ],
      "execution_count": null,
      "outputs": [
        {
          "output_type": "execute_result",
          "data": {
            "text/plain": [
              "array([[1.0, 0.0, 143.37307719999998],\n",
              "       [1.0, 0.0, 123.41225390000001],\n",
              "       [1.0, 0.0, 118.13672700000001],\n",
              "       ...,\n",
              "       [0.0, 1.0, 156.2748014],\n",
              "       [0.0, 1.0, 193.4417441],\n",
              "       [0.0, 1.0, 174.5848799]], dtype=object)"
            ]
          },
          "metadata": {
            "tags": []
          },
          "execution_count": 8
        }
      ]
    },
    {
      "cell_type": "code",
      "metadata": {
        "colab": {
          "base_uri": "https://localhost:8080/"
        },
        "id": "irxWyoCqHkX0",
        "outputId": "95ff237f-e133-4d82-c084-fd570164b43f"
      },
      "source": [
        "np.shape(x_train)"
      ],
      "execution_count": null,
      "outputs": [
        {
          "output_type": "execute_result",
          "data": {
            "text/plain": [
              "(9000, 3)"
            ]
          },
          "metadata": {
            "tags": []
          },
          "execution_count": 9
        }
      ]
    },
    {
      "cell_type": "code",
      "metadata": {
        "colab": {
          "base_uri": "https://localhost:8080/"
        },
        "id": "s77zmCES05GT",
        "outputId": "ed8eeadd-715a-40a2-b6f8-0b3041e08acd"
      },
      "source": [
        "y_train"
      ],
      "execution_count": null,
      "outputs": [
        {
          "output_type": "execute_result",
          "data": {
            "text/plain": [
              "array([65.28601781, 64.16393928, 60.64026619, ..., 65.34858963,\n",
              "       71.6753934 , 65.78872979])"
            ]
          },
          "metadata": {
            "tags": []
          },
          "execution_count": 10
        }
      ]
    },
    {
      "cell_type": "code",
      "metadata": {
        "colab": {
          "base_uri": "https://localhost:8080/"
        },
        "id": "F-S0BJ4rHj9f",
        "outputId": "5ef81654-bce2-4e82-d739-999fb1949efd"
      },
      "source": [
        "np.shape(y_train)"
      ],
      "execution_count": null,
      "outputs": [
        {
          "output_type": "execute_result",
          "data": {
            "text/plain": [
              "(9000,)"
            ]
          },
          "metadata": {
            "tags": []
          },
          "execution_count": 11
        }
      ]
    },
    {
      "cell_type": "code",
      "metadata": {
        "colab": {
          "base_uri": "https://localhost:8080/"
        },
        "id": "nHSXzhIxublJ",
        "outputId": "8955e7be-e02b-4837-ca6b-32e52bcad8af"
      },
      "source": [
        "from sklearn.linear_model import LinearRegression\n",
        "lr_model = LinearRegression()\n",
        "lr_model.fit(x_train,y_train)"
      ],
      "execution_count": null,
      "outputs": [
        {
          "output_type": "execute_result",
          "data": {
            "text/plain": [
              "LinearRegression(copy_X=True, fit_intercept=True, n_jobs=None, normalize=False)"
            ]
          },
          "metadata": {
            "tags": []
          },
          "execution_count": 12
        }
      ]
    },
    {
      "cell_type": "code",
      "metadata": {
        "colab": {
          "base_uri": "https://localhost:8080/"
        },
        "id": "rK-1HBsL57z8",
        "outputId": "ee57b1ff-faf3-4a79-d533-9e91bf957535"
      },
      "source": [
        "gender = input(\"M/F:\")\n",
        "if gender.upper == \"M\":\n",
        "  array = np.array([1.0,0.0])\n",
        "  height = float(input(\"Enter height in cms :\"))\n",
        "elif gender.upper == \"F\":\n",
        "  array = np.array([0.0,1.0])\n",
        "  height = float(input(\"Enter height in cms :\"))   \n",
        "else:\n",
        "  print('Enter an actual gender') "
      ],
      "execution_count": null,
      "outputs": [
        {
          "output_type": "stream",
          "text": [
            "M/F:r\n"
          ],
          "name": "stdout"
        }
      ]
    },
    {
      "cell_type": "code",
      "metadata": {
        "id": "QkqCwHMl9HN_"
      },
      "source": [
        "array = np.append(array,np.array(height)).reshape(1,3)\n",
        "print(array,np.shape(array))"
      ],
      "execution_count": null,
      "outputs": []
    },
    {
      "cell_type": "code",
      "metadata": {
        "id": "3AlTNrz70EXr"
      },
      "source": [
        "predict = lr_model.predict(x_test)"
      ],
      "execution_count": null,
      "outputs": []
    },
    {
      "cell_type": "code",
      "metadata": {
        "colab": {
          "base_uri": "https://localhost:8080/"
        },
        "id": "FABRW5fY1IQR",
        "outputId": "95f023e0-a87e-47dc-8cdf-2e82fa15f541"
      },
      "source": [
        "predict"
      ],
      "execution_count": null,
      "outputs": [
        {
          "output_type": "execute_result",
          "data": {
            "text/plain": [
              "array([63.69872978, 65.65537004, 63.68047159, 67.06308875, 62.70844816,\n",
              "       70.64118912, 66.52337514, 67.56103177, 61.79799269, 61.46362493,\n",
              "       62.07920747, 64.02918606, 64.17650032, 60.07339904, 65.62557068,\n",
              "       63.4366624 , 66.34894584, 66.65028764, 69.69634516, 71.28325   ,\n",
              "       66.43865153, 66.65556161, 68.7071728 , 67.01079647, 63.98297042,\n",
              "       69.92097473, 66.79735195, 62.45968766, 63.96472801, 61.61435188,\n",
              "       64.36340751, 61.29283044, 62.71811908, 70.64122761, 67.48086472,\n",
              "       74.05833497, 68.3751356 , 69.14149907, 63.80691836, 70.93725888,\n",
              "       67.51423956, 70.71259873, 67.73345411, 65.53871602, 65.6997284 ,\n",
              "       59.85104928, 65.63245075, 63.88708263, 70.93165686, 61.40849487,\n",
              "       70.38596367, 63.62289423, 71.36067142, 67.71100464, 71.51822819,\n",
              "       70.00533478, 71.16180542, 70.2176956 , 63.25014032, 65.51579083,\n",
              "       70.97297511, 71.04112247, 62.4597871 , 61.04488685, 64.80989866,\n",
              "       65.96109006, 69.56727381, 70.62315558, 60.43877437, 66.05688871,\n",
              "       71.05856096, 60.34798316, 66.72631394, 70.21182831, 67.46909899,\n",
              "       64.15743514, 66.91825292, 68.63451945, 63.72543452, 65.21314467,\n",
              "       65.43296451, 64.26795606, 62.0286911 , 66.65198348, 67.30534355,\n",
              "       68.41733685, 68.50408264, 63.13027992, 65.66822088, 64.53407497,\n",
              "       68.74911104, 67.93312038, 70.06398129, 65.95529863, 72.99231904,\n",
              "       68.19136018, 68.32256406, 74.40885368, 64.72103712, 70.51197655,\n",
              "       61.72514306, 65.28176046, 70.86690271, 67.77138146, 70.17046254,\n",
              "       64.314532  , 67.63962233, 64.04526503, 59.7596066 , 67.2504901 ,\n",
              "       65.7096807 , 60.60547495, 67.88117269, 71.44456902, 61.49903866,\n",
              "       67.61248599, 63.40072569, 64.54808461, 63.47511129, 64.01349238,\n",
              "       65.57584589, 65.69952757, 71.26218632, 75.24177785, 71.19823912,\n",
              "       67.97919691, 68.49964483, 70.50032832, 68.48416222, 66.08313442,\n",
              "       64.09679719, 67.51044442, 65.18704657, 68.11717012, 67.66521661,\n",
              "       70.22343516, 64.19150905, 69.97826283, 65.10502495, 64.20766834,\n",
              "       72.24808017, 66.32423586, 67.6586867 , 67.1841016 , 63.36009525,\n",
              "       63.17308503, 64.15441079, 60.01266336, 69.89058927, 66.20873135,\n",
              "       59.51439105, 61.38413975, 66.00002482, 70.01639505, 66.48658435,\n",
              "       59.34124597, 65.06471428, 65.39850619, 62.83552648, 69.88679992,\n",
              "       59.60255348, 63.18828662, 63.68569976, 68.93212311, 66.25849097,\n",
              "       67.62805428, 64.65672682, 72.78327202, 68.69671392, 67.90522979,\n",
              "       65.8877781 , 71.54685466, 69.04004317, 70.38403538, 66.27255815,\n",
              "       65.85424609, 66.7745585 , 64.94220757, 65.15502602, 66.3944494 ,\n",
              "       69.29243616, 63.86068045, 64.85622679, 64.80631282, 68.45956796,\n",
              "       68.6687169 , 64.5673206 , 63.31869001, 66.17906366, 65.7942904 ,\n",
              "       67.68692946, 71.65150611, 71.56455956, 67.81741425, 66.27614428,\n",
              "       64.71829838, 64.96366453, 63.98116451, 58.14338447, 67.60774113,\n",
              "       60.87273622, 68.94420031, 67.51020956, 66.24924478, 72.74762938,\n",
              "       72.47650243, 58.27661234, 59.36874145, 65.72100844, 74.02866896,\n",
              "       68.3618748 , 67.8733972 , 68.03833023, 71.7639034 , 63.07271448,\n",
              "       60.62216055, 62.58525098, 63.67547273, 63.23927796, 66.54941479,\n",
              "       70.1072124 , 70.30251862, 63.6619752 , 71.96145392, 64.45749788,\n",
              "       66.75969032, 63.72059246, 67.47417314, 71.79109379, 62.85396243,\n",
              "       63.67070022, 69.17602904, 64.57297312, 65.80369062, 63.5351889 ,\n",
              "       61.52320465, 67.93118956, 65.90796655, 64.53338525, 65.51045204,\n",
              "       67.76662859, 71.46454808, 61.20529252, 61.37828075, 72.02185459,\n",
              "       63.68851207, 59.31902786, 65.76611391, 67.33598933, 60.98423394,\n",
              "       69.45482604, 67.10185787, 70.03318479, 59.71453537, 66.00004752,\n",
              "       65.32266035, 68.09916515, 71.49686092, 64.65791436, 66.0908311 ,\n",
              "       70.17783394, 64.46497166, 61.68029702, 70.00593935, 60.92357709,\n",
              "       67.14546156, 62.41361277, 75.50240984, 58.10218998, 67.79547024,\n",
              "       72.65446812, 63.45698854, 61.40432578, 74.16397021, 69.20890978,\n",
              "       70.32670402, 65.45797492, 65.57509273, 66.07445637, 63.1214629 ,\n",
              "       67.17722267, 69.85993821, 70.1524223 , 58.00828518, 57.39331888,\n",
              "       64.7963698 , 63.26655787, 67.30206151, 71.85175558, 72.04871375,\n",
              "       61.36033023, 61.87935838, 63.39931016, 69.82914924, 65.99468523,\n",
              "       62.47112926, 61.69700537, 66.24670629, 66.18632786, 64.80523928,\n",
              "       69.24222785, 73.25878216, 61.24439204, 73.48709013, 71.35870765,\n",
              "       70.49818018, 66.69148244, 66.80883015, 68.75679237, 66.46425311,\n",
              "       64.74124393, 68.65337109, 60.3259886 , 66.35925007, 65.93547477,\n",
              "       62.29986469, 69.03925421, 61.99526591, 68.91894848, 60.40653221,\n",
              "       62.92131388, 66.15086399, 67.87477052, 71.14747145, 67.36440018,\n",
              "       67.52363407, 68.89522924, 71.90003237, 73.17146283, 69.07484144,\n",
              "       62.54817284, 70.20122625, 72.04420447, 64.24295838, 69.92905081,\n",
              "       71.42666549, 68.00030801, 69.16218367, 69.98148961, 69.09325948,\n",
              "       69.66908738, 63.1669008 , 69.80603792, 67.27539835, 71.76993701,\n",
              "       71.68985998, 65.74599306, 68.09722567, 70.09037929, 63.39868446,\n",
              "       67.49295093, 61.34697571, 69.98333409, 69.05633006, 63.93806316,\n",
              "       63.32567293, 61.82157168, 62.86467451, 60.46492174, 63.5800494 ,\n",
              "       61.1423807 , 71.02458685, 67.49406492, 64.16228669, 67.73807082,\n",
              "       62.47905238, 67.44706693, 66.42119105, 59.97674433, 65.83048857,\n",
              "       62.76953026, 68.87352355, 59.08450839, 62.95135224, 62.76146816,\n",
              "       64.36843675, 65.81906304, 65.26196412, 71.05076643, 61.89788896,\n",
              "       66.78672968, 62.00577496, 66.08357321, 73.94405159, 63.72603257,\n",
              "       70.16188383, 70.34293121, 67.20872004, 70.52757627, 69.69632646,\n",
              "       66.96108401, 67.57437322, 71.61996983, 72.4467259 , 72.13161562,\n",
              "       59.48644921, 62.9437519 , 61.03308652, 73.61798801, 65.61104258,\n",
              "       63.02843803, 69.51066311, 71.90014023, 63.90346389, 69.30480537,\n",
              "       69.23614111, 64.99054198, 66.35809799, 65.35109287, 64.93030533,\n",
              "       63.6057145 , 61.41190529, 69.54269622, 69.26573263, 65.61354712,\n",
              "       67.61033356, 65.72869337, 65.59440863, 65.42623082, 64.22910929,\n",
              "       59.14115389, 62.90412267, 70.46165016, 62.79131388, 67.03033402,\n",
              "       72.20186453, 68.89794223, 62.29139533, 61.27928906, 68.36840278,\n",
              "       69.0297416 , 65.78786412, 71.61617399, 71.76138479, 66.4372964 ,\n",
              "       73.55837719, 72.44342726, 65.83957006, 65.14141043, 67.22860975,\n",
              "       66.99323743, 70.18669502, 62.56505698, 68.41006237, 61.60662116,\n",
              "       63.23842145, 63.51198379, 67.48192622, 67.62968784, 72.79212589,\n",
              "       69.24770529, 59.45722468, 64.15166056, 64.99506848, 57.71527701,\n",
              "       59.5185119 , 72.54501286, 63.0458836 , 67.111087  , 63.49588517,\n",
              "       61.95012873, 63.46912982, 64.79121566, 66.9468637 , 68.38146654,\n",
              "       61.262355  , 68.68970435, 69.33045629, 62.75850855, 63.02669597,\n",
              "       61.86585767, 60.3053365 , 69.20818147, 73.13010244, 64.89269834,\n",
              "       69.8203374 , 64.90918568, 68.68550236, 65.46124179, 72.02909523,\n",
              "       70.56659577, 70.16142205, 63.27524542, 69.10742454, 68.16520183,\n",
              "       64.13750255, 65.47106416, 64.27716137, 70.72985832, 63.00144786,\n",
              "       70.97810325, 66.06944488, 68.20692683, 66.79586352, 67.18272015,\n",
              "       68.16640666, 65.2293019 , 67.22406447, 70.66851298, 65.05567719,\n",
              "       68.59408955, 68.86724764, 65.54132878, 65.85285784, 58.2189887 ,\n",
              "       63.33231688, 62.30480509, 68.19922666, 64.58571147, 71.17813147,\n",
              "       70.37396914, 62.5607169 , 66.77175674, 64.35187686, 68.78915512,\n",
              "       69.06912281, 60.4477787 , 69.39877115, 72.01260899, 68.86536091,\n",
              "       69.99040257, 59.95854916, 62.7796875 , 65.62639762, 65.23383612,\n",
              "       69.03314734, 63.35800659, 61.64641728, 68.3081101 , 69.14819081,\n",
              "       71.58889363, 67.27512584, 62.95395996, 66.00934513, 68.75394087,\n",
              "       66.49955168, 66.40635445, 71.46642738, 72.75977513, 64.20105859,\n",
              "       67.96764412, 60.27239634, 72.26735522, 65.49363458, 73.02312661,\n",
              "       67.96549202, 69.898512  , 62.35752736, 65.15276163, 68.88782349,\n",
              "       63.25699425, 63.81822004, 69.51113938, 66.42194054, 66.02102483,\n",
              "       59.85880894, 61.84807264, 68.00030566, 70.63550009, 61.61256001,\n",
              "       73.07019719, 62.03003821, 64.11935364, 63.27305251, 61.96164144,\n",
              "       74.25659876, 68.72355334, 66.39564736, 69.76395846, 67.30997581,\n",
              "       63.99384047, 74.11172607, 66.03933122, 73.5022496 , 66.77586386,\n",
              "       71.18979283, 65.09116   , 68.33727283, 71.26864678, 62.9032751 ,\n",
              "       66.01685049, 61.96679184, 71.34094317, 65.92581537, 70.61369951,\n",
              "       69.44399511, 63.22433165, 66.7933776 , 66.96043709, 65.87008909,\n",
              "       64.45343744, 69.17469375, 62.76387221, 62.09710759, 66.28130896,\n",
              "       70.25927269, 69.90426907, 68.83549114, 66.49487585, 61.95767374,\n",
              "       65.69328767, 64.75320566, 60.72939554, 71.75844514, 71.68394416,\n",
              "       66.54902254, 61.5434624 , 64.58287103, 62.33535235, 68.62782499,\n",
              "       62.47375667, 68.40845191, 64.05279378, 62.22410809, 67.11934499,\n",
              "       70.34300667, 65.42782338, 59.52894531, 66.88470123, 66.7262405 ,\n",
              "       63.7519376 , 64.54082657, 64.78046225, 69.98599438, 68.45247359,\n",
              "       65.08402814, 65.51799351, 67.3014412 , 66.73264009, 63.7377885 ,\n",
              "       66.18443804, 68.73715247, 68.30416678, 68.34845835, 69.06775275,\n",
              "       65.51349776, 64.31731405, 65.87482214, 70.85568549, 64.68326021,\n",
              "       62.20772736, 70.21039794, 71.76104817, 66.91872587, 62.24505471,\n",
              "       58.8397966 , 73.41061278, 71.02921452, 66.41355166, 68.0447568 ,\n",
              "       73.62842478, 64.90752299, 63.37428783, 62.73226424, 72.28241075,\n",
              "       66.44987287, 66.31112758, 62.84413771, 67.03844046, 71.78376817,\n",
              "       74.09142323, 69.67977573, 62.6818718 , 66.66177838, 64.91975737,\n",
              "       68.46787184, 65.96172928, 64.39303958, 65.0084416 , 63.76622612,\n",
              "       71.32648919, 72.29034362, 69.85949522, 65.25728456, 66.1334659 ,\n",
              "       63.97550857, 66.54731845, 62.4354459 , 69.00411221, 63.04114161,\n",
              "       64.41803671, 61.88129034, 69.48144852, 69.98509231, 68.7817227 ,\n",
              "       63.35829993, 67.90895966, 59.36553303, 60.59905638, 64.02354658,\n",
              "       68.51407529, 67.64707803, 66.89212674, 65.52754942, 68.69542627,\n",
              "       71.0115703 , 62.79849603, 64.52377871, 69.8194114 , 71.80376585,\n",
              "       69.36163646, 69.37828346, 65.104241  , 64.43195969, 69.0721937 ,\n",
              "       61.4166513 , 72.05219786, 70.36592878, 71.02452059, 71.94350394,\n",
              "       65.88611351, 62.33616586, 67.96126602, 70.98147675, 72.38819041,\n",
              "       77.46690582, 68.425444  , 66.48231235, 62.65468626, 62.3591376 ,\n",
              "       61.99641462, 60.61150807, 65.07954644, 67.96191665, 69.77761813,\n",
              "       71.31664559, 66.24507843, 61.830582  , 68.91386675, 68.56895673,\n",
              "       67.84038575, 73.00167894, 61.09734088, 68.98951433, 69.5878333 ,\n",
              "       71.32698149, 62.72769764, 68.94668641, 63.97518177, 66.8333077 ,\n",
              "       69.58103566, 71.86144233, 67.86747902, 63.16589338, 72.19136344,\n",
              "       62.7517544 , 69.40768657, 64.58008764, 60.1309483 , 66.37505934,\n",
              "       69.20499264, 66.12854876, 62.66061544, 64.80127735, 65.18864866,\n",
              "       70.49054097, 66.49625524, 69.5794533 , 66.61488773, 68.83972212,\n",
              "       69.93602317, 66.1338041 , 60.21361589, 67.87411836, 63.85755637,\n",
              "       75.79031894, 70.82609284, 67.72366145, 66.49578962, 66.39290779,\n",
              "       71.70915778, 66.39718681, 58.63072323, 67.79854429, 70.10547561,\n",
              "       64.73673372, 65.09453562, 65.27302814, 71.35621633, 61.33613741,\n",
              "       70.34775591, 70.67018768, 61.86381239, 67.19873792, 60.21749894,\n",
              "       68.00917619, 62.38348645, 70.65324234, 71.53471162, 64.34863433,\n",
              "       65.07790635, 64.29687475, 68.47066742, 68.2568932 , 63.41754371,\n",
              "       70.64235091, 67.03976566, 65.31988969, 60.43131546, 66.86483982,\n",
              "       60.28044461, 69.9115897 , 68.29292653, 63.68340238, 63.11542162,\n",
              "       60.41683188, 68.28218721, 65.06100956, 63.61673167, 66.20506285,\n",
              "       58.35802   , 66.32600521, 65.30252074, 68.90381697, 63.75465306,\n",
              "       61.10874551, 62.23445835, 64.90620621, 61.89373279, 64.63071371,\n",
              "       69.21462009, 61.8521575 , 65.59978587, 62.82245514, 70.38891456,\n",
              "       68.40606062, 65.77102898, 66.19396762, 61.135776  , 66.00886342,\n",
              "       63.25780419, 69.33320746, 64.37642737, 68.33960903, 67.06261956,\n",
              "       63.55919279, 67.44360295, 70.28103548, 64.02788656, 68.99347476,\n",
              "       72.50063939, 66.36586214, 69.43107672, 66.72612564, 69.55466038,\n",
              "       63.68399718, 74.65045654, 65.9596854 , 66.72823477, 66.81436438,\n",
              "       64.28311514, 71.26042232, 70.39253356, 61.56303969, 60.89009759,\n",
              "       66.12402834, 63.57601374, 64.03220046, 67.24964588, 64.13800591,\n",
              "       62.06066506, 65.40088487, 65.76523557, 70.05921482, 67.14830773,\n",
              "       67.48835734, 63.59830233, 61.36686476, 63.36740149, 59.70998736,\n",
              "       70.85586902, 70.20155833, 72.85668568, 68.22796165, 73.50676611,\n",
              "       66.56361076, 66.07619222, 65.55922978, 64.41709864, 63.19640277,\n",
              "       70.76800938, 71.523493  , 63.8101497 , 62.00521859, 70.58320075,\n",
              "       62.22036366, 64.81130916, 68.6728116 , 65.74296263, 65.91417059,\n",
              "       69.64479214, 66.55248062, 61.37034412, 68.5131772 , 63.41771351,\n",
              "       67.52959674, 70.74219976, 70.03427529, 71.44214531, 62.74228151,\n",
              "       71.47893403, 64.36591937, 67.04880183, 66.61069941, 62.58895111,\n",
              "       72.0546147 , 65.88286754, 65.91590792, 61.06497315, 66.30360353,\n",
              "       70.19414806, 64.91431016, 61.92776068, 65.30276741, 71.45540531,\n",
              "       68.83588623, 66.89901519, 64.08527291, 63.01861708, 69.58213235,\n",
              "       60.58070017, 62.99857976, 66.55998247, 63.97550151, 60.66875212,\n",
              "       67.25164942, 67.5446429 , 70.67123541, 65.834737  , 65.81243793,\n",
              "       59.29264254, 58.92159848, 62.31997036, 76.62650818, 67.6229322 ,\n",
              "       67.77035289, 66.90960534, 63.4565292 , 64.46980935, 58.33036889,\n",
              "       63.1205287 , 69.77134704, 67.75680975, 63.50635884, 66.58218065,\n",
              "       64.94658768, 62.38154087, 70.69551094, 66.2761359 , 71.10862072,\n",
              "       65.71103622, 59.43510928, 73.84770576, 61.89876757, 65.63688565,\n",
              "       69.33250782, 67.7004822 , 66.05307501, 71.49541618, 68.8498619 ,\n",
              "       68.7635077 , 61.73841668, 74.18535865, 69.593525  , 59.63846932,\n",
              "       69.29691564, 65.71688464, 60.14861448, 68.0612109 , 68.04359682,\n",
              "       66.71073945, 70.15849975, 70.04139279, 65.56954538, 70.36289493,\n",
              "       64.04378454, 64.02781838, 69.30588611, 61.08057353, 63.80897555,\n",
              "       67.4523897 , 63.17765061, 62.35101196, 68.92274468, 63.45723769,\n",
              "       60.43748691, 64.42617937, 65.61936497, 69.9012335 , 60.91143559,\n",
              "       62.47957574, 62.56364592, 64.35259575, 61.28543177, 64.6279202 ,\n",
              "       69.37558454, 68.27738874, 62.10746806, 66.02540427, 67.73359377])"
            ]
          },
          "metadata": {
            "tags": []
          },
          "execution_count": 14
        }
      ]
    },
    {
      "cell_type": "code",
      "metadata": {
        "colab": {
          "base_uri": "https://localhost:8080/",
          "height": 312
        },
        "id": "bZ6mKTOOGlp4",
        "outputId": "48614d38-a6c3-49d5-cba8-d30877811337"
      },
      "source": [
        "pld.scatter(x_train[:,-1],y_train,color = 'red')\n",
        "pld.plot(x_test,predict,color = 'blue')\n",
        "pld.title('Weight vs Height')\n",
        "pld.xlabel('Height')\n",
        "pld.ylabel('Weight')"
      ],
      "execution_count": null,
      "outputs": [
        {
          "output_type": "execute_result",
          "data": {
            "text/plain": [
              "Text(0, 0.5, 'Weight')"
            ]
          },
          "metadata": {
            "tags": []
          },
          "execution_count": 15
        },
        {
          "output_type": "display_data",
          "data": {
            "image/png": "[encoded data removed]",
            "text/plain": [
              "<Figure size 432x288 with 1 Axes>"
            ]
          },
          "metadata": {
            "tags": [],
            "needs_background": "light"
          }
        }
      ]
    }
  ]
}