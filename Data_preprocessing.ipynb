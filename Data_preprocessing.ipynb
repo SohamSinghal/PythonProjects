{
  "nbformat": 4,
  "nbformat_minor": 0,
  "metadata": {
    "colab": {
      "name": "Data preprocessing",
      "provenance": [],
      "collapsed_sections": [],
      "authorship_tag": "ABX9TyMa5PmD+NmH04VUjgNUv1Eu",
      "include_colab_link": true
    },
    "kernelspec": {
      "name": "python3",
      "display_name": "Python 3"
    }
  },
  "cells": [
    {
      "cell_type": "markdown",
      "metadata": {
        "id": "view-in-github",
        "colab_type": "text"
      },
      "source": [
        "<a href=\"https://colab.research.google.com/github/SohamSinghal/PythonProjects/blob/master/Data_preprocessing.ipynb\" target=\"_parent\"><img src=\"https://colab.research.google.com/assets/colab-badge.svg\" alt=\"Open In Colab\"/></a>"
      ]
    },
    {
      "cell_type": "markdown",
      "metadata": {
        "id": "Ja0JRSQww7k7"
      },
      "source": [
        "#Data Processing"
      ]
    },
    {
      "cell_type": "code",
      "metadata": {
        "id": "lRrZQV0ewG0J"
      },
      "source": [
        "import numpy as np\n",
        "import pandas as pd\n",
        "import matplotlib as plt"
      ],
      "execution_count": null,
      "outputs": []
    },
    {
      "cell_type": "markdown",
      "metadata": {
        "id": "22zcjg2Hrula"
      },
      "source": [
        "Independent variable - Input data(x)\n",
        "\n",
        "Dependent Variable - Output or effect(y)"
      ]
    },
    {
      "cell_type": "code",
      "metadata": {
        "id": "SgraILrewchZ"
      },
      "source": [
        "data = pd.read_csv('Data.csv')\n",
        "x = data.iloc[:,:-1].values #iloc - locate indexes,.values - store values\n",
        "y = data.iloc[:,-1].values"
      ],
      "execution_count": null,
      "outputs": []
    },
    {
      "cell_type": "code",
      "metadata": {
        "colab": {
          "base_uri": "https://localhost:8080/"
        },
        "id": "QmuYd53Rw_uJ",
        "outputId": "d112e9fd-260a-482b-8a59-e88d9f39afe8"
      },
      "source": [
        "print(x)"
      ],
      "execution_count": null,
      "outputs": [
        {
          "output_type": "stream",
          "text": [
            "[['France' 44.0 72000.0]\n",
            " ['Spain' 27.0 48000.0]\n",
            " ['Germany' 30.0 54000.0]\n",
            " ['Spain' 38.0 61000.0]\n",
            " ['Germany' 40.0 nan]\n",
            " ['France' 35.0 58000.0]\n",
            " ['Spain' nan 52000.0]\n",
            " ['France' 48.0 79000.0]\n",
            " ['Germany' 50.0 83000.0]\n",
            " ['France' 37.0 67000.0]]\n"
          ],
          "name": "stdout"
        }
      ]
    },
    {
      "cell_type": "code",
      "metadata": {
        "colab": {
          "base_uri": "https://localhost:8080/"
        },
        "id": "Hl3YXduUxBCp",
        "outputId": "f05bc14d-3108-4df1-aad2-4db4005cf2a0"
      },
      "source": [
        "print(y)"
      ],
      "execution_count": null,
      "outputs": [
        {
          "output_type": "stream",
          "text": [
            "['No' 'Yes' 'No' 'No' 'Yes' 'Yes' 'No' 'Yes' 'No' 'Yes']\n"
          ],
          "name": "stdout"
        }
      ]
    },
    {
      "cell_type": "code",
      "metadata": {
        "id": "sU7f5MmTyNcU"
      },
      "source": [
        "from sklearn.impute import SimpleImputer #from sklearn.impute library we import SimpleImputer class\n",
        "impute = SimpleImputer(missing_values = np.nan,strategy = 'mean') #impute is the obj of the class and missing value and startegy are the arguments passed\n",
        "# strategy - what to do; missing_values - to which values to use the strategy\n",
        "impute.fit(x[:,1:3]) #fit method performs the former \"strategy\" on the data\n",
        "x[:,1:3] = impute.transform(x[:,1:3]) #transform method updates the original data with the processed data"
      ],
      "execution_count": null,
      "outputs": []
    },
    {
      "cell_type": "code",
      "metadata": {
        "colab": {
          "base_uri": "https://localhost:8080/"
        },
        "id": "Q5cTnfFO05Tr",
        "outputId": "cc16d4f8-31bd-47f0-fa2a-a226c541bb70"
      },
      "source": [
        "print(x)"
      ],
      "execution_count": null,
      "outputs": [
        {
          "output_type": "stream",
          "text": [
            "[['France' 44.0 72000.0]\n",
            " ['Spain' 27.0 48000.0]\n",
            " ['Germany' 30.0 54000.0]\n",
            " ['Spain' 38.0 61000.0]\n",
            " ['Germany' 40.0 63777.77777777778]\n",
            " ['France' 35.0 58000.0]\n",
            " ['Spain' 38.77777777777778 52000.0]\n",
            " ['France' 48.0 79000.0]\n",
            " ['Germany' 50.0 83000.0]\n",
            " ['France' 37.0 67000.0]]\n"
          ],
          "name": "stdout"
        }
      ]
    },
    {
      "cell_type": "code",
      "metadata": {
        "id": "a4VlO1v6cBey"
      },
      "source": [
        "from sklearn.compose import ColumnTransformer\n",
        "from sklearn.preprocessing import OneHotEncoder\n",
        "ct = ColumnTransformer(transformers=[('encoder', OneHotEncoder(), [0])], remainder='passthrough')\n",
        "x = np.array(ct.fit_transform(x))"
      ],
      "execution_count": null,
      "outputs": []
    },
    {
      "cell_type": "code",
      "metadata": {
        "colab": {
          "base_uri": "https://localhost:8080/"
        },
        "id": "HYvmYblBi2Qm",
        "outputId": "eb8e2834-335c-45d0-89f5-52b5591c7941"
      },
      "source": [
        "print(x)"
      ],
      "execution_count": null,
      "outputs": [
        {
          "output_type": "stream",
          "text": [
            "[[1.0 0.0 0.0 44.0 72000.0]\n",
            " [0.0 0.0 1.0 27.0 48000.0]\n",
            " [0.0 1.0 0.0 30.0 54000.0]\n",
            " [0.0 0.0 1.0 38.0 61000.0]\n",
            " [0.0 1.0 0.0 40.0 63777.77777777778]\n",
            " [1.0 0.0 0.0 35.0 58000.0]\n",
            " [0.0 0.0 1.0 38.77777777777778 52000.0]\n",
            " [1.0 0.0 0.0 48.0 79000.0]\n",
            " [0.0 1.0 0.0 50.0 83000.0]\n",
            " [1.0 0.0 0.0 37.0 67000.0]]\n"
          ],
          "name": "stdout"
        }
      ]
    },
    {
      "cell_type": "code",
      "metadata": {
        "colab": {
          "base_uri": "https://localhost:8080/"
        },
        "id": "R8jF9Vt-kiHF",
        "outputId": "22418243-be97-4980-c349-11a0d45d77c0"
      },
      "source": [
        "from sklearn.preprocessing import LabelEncoder\n",
        "le = LabelEncoder()\n",
        "y = le.fit_transform(y)\n",
        "print(y)"
      ],
      "execution_count": null,
      "outputs": [
        {
          "output_type": "stream",
          "text": [
            "[0 1 0 0 1 1 0 1 0 1]\n"
          ],
          "name": "stdout"
        }
      ]
    },
    {
      "cell_type": "markdown",
      "metadata": {
        "id": "SV6FQ2A35Io2"
      },
      "source": [
        "Training set - Data used to train the machine\n",
        "\n",
        "Validation set - Fine tune the machine. It doenst learn anything from this unlike Training set\n",
        "\n",
        "Test set - The sample of data used to provide an unbiased evaluation of a final machine.\n",
        "\n",
        "\n",
        "\n",
        "![1_Nv2NNALuokZEcV6hYEHdGA.png](data:image/png;base64,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)"
      ]
    },
    {
      "cell_type": "code",
      "metadata": {
        "id": "q_Es4rDt6Tm6"
      },
      "source": [
        "from sklearn.model_selection import train_test_split\n",
        "x_train, x_test, y_train, y_test = train_test_split(x, y, test_size=0.2, random_state=4)"
      ],
      "execution_count": null,
      "outputs": []
    },
    {
      "cell_type": "code",
      "metadata": {
        "colab": {
          "base_uri": "https://localhost:8080/"
        },
        "id": "v4w9YtWp9K1k",
        "outputId": "bd518f06-77d9-4c0c-f119-1d23b8336959"
      },
      "source": [
        "print(x_train)"
      ],
      "execution_count": null,
      "outputs": [
        {
          "output_type": "stream",
          "text": [
            "[[0.0 1.0 0.0 40.0 63777.77777777778]\n",
            " [1.0 0.0 0.0 37.0 67000.0]\n",
            " [0.0 1.0 0.0 30.0 54000.0]\n",
            " [0.0 0.0 1.0 38.77777777777778 52000.0]\n",
            " [1.0 0.0 0.0 44.0 72000.0]\n",
            " [0.0 0.0 1.0 27.0 48000.0]\n",
            " [1.0 0.0 0.0 35.0 58000.0]\n",
            " [1.0 0.0 0.0 48.0 79000.0]]\n"
          ],
          "name": "stdout"
        }
      ]
    },
    {
      "cell_type": "code",
      "metadata": {
        "colab": {
          "base_uri": "https://localhost:8080/"
        },
        "id": "1NFXQ7Uz9K5d",
        "outputId": "9f91783f-7a19-4ff1-a7e7-d2d0fed9b42f"
      },
      "source": [
        "print(y_train)"
      ],
      "execution_count": null,
      "outputs": [
        {
          "output_type": "stream",
          "text": [
            "[1 1 0 0 0 1 1 1]\n"
          ],
          "name": "stdout"
        }
      ]
    },
    {
      "cell_type": "code",
      "metadata": {
        "colab": {
          "base_uri": "https://localhost:8080/"
        },
        "id": "N84K13Z-9K8b",
        "outputId": "4a5c5b0a-ead5-495b-f878-993e82610bcc"
      },
      "source": [
        "print(x_test)"
      ],
      "execution_count": null,
      "outputs": [
        {
          "output_type": "stream",
          "text": [
            "[[0.0 0.0 1.0 38.0 61000.0]\n",
            " [0.0 1.0 0.0 50.0 83000.0]]\n"
          ],
          "name": "stdout"
        }
      ]
    },
    {
      "cell_type": "code",
      "metadata": {
        "colab": {
          "base_uri": "https://localhost:8080/"
        },
        "id": "grhOfd3c9LA_",
        "outputId": "5d1fa786-18ad-4d52-e065-b506b978044b"
      },
      "source": [
        "print(y_test)"
      ],
      "execution_count": null,
      "outputs": [
        {
          "output_type": "stream",
          "text": [
            "[0 0]\n"
          ],
          "name": "stdout"
        }
      ]
    },
    {
      "cell_type": "markdown",
      "metadata": {
        "id": "_qlgn5BH3CSU"
      },
      "source": [
        "Feature Scaling - Normalizing the range of the independent variable for giving better predictions\n",
        "\n",
        "There are 2 main methods of feature scaling:\n",
        "\n",
        "![Screenshot 2021-02-25 170855.png](data:image/png;base64,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)"
      ]
    },
    {
      "cell_type": "code",
      "metadata": {
        "id": "LtFAgDIt3RYR"
      },
      "source": [
        "from sklearn.preprocessing import StandardScaler\n",
        "scaler = StandardScaler()\n",
        "x_train[:,3:] = scaler.fit_transform(x_train[:,3:]) #fit_transforms computes and applies  \n",
        "x_test[:,3:] = scaler.transform(x_test[:,3:]) #transform just applies;the scaling factor of previous step will be taken"
      ],
      "execution_count": null,
      "outputs": []
    },
    {
      "cell_type": "code",
      "metadata": {
        "colab": {
          "base_uri": "https://localhost:8080/"
        },
        "id": "R_Yqkh30IVve",
        "outputId": "9fa8f5a5-2e96-41d8-d792-323605f3c0a9"
      },
      "source": [
        "print(x_train)"
      ],
      "execution_count": null,
      "outputs": [
        {
          "output_type": "stream",
          "text": [
            "[[0.0 1.0 0.0 0.3915762703288588 0.2065202954630813]\n",
            " [1.0 0.0 0.0 -0.07315161094055589 0.5302548126754777]\n",
            " [0.0 1.0 0.0 -1.1575166672358568 -0.7758465153883297]\n",
            " [0.0 0.0 1.0 0.2022426890709492 -0.9767851812443]\n",
            " [1.0 0.0 0.0 1.011213445354745 1.0326014773154035]\n",
            " [0.0 0.0 1.0 -1.6222445485052714 -1.3786625129562409]\n",
            " [1.0 0.0 0.0 -0.382970198453499 -0.373969183676389]\n",
            " [1.0 0.0 0.0 1.6308506203806312 1.7358868078113]]\n"
          ],
          "name": "stdout"
        }
      ]
    }
  ]
}