{
  "nbformat": 4,
  "nbformat_minor": 0,
  "metadata": {
    "colab": {
      "name": "ML-01.ipynb",
      "provenance": [],
      "collapsed_sections": [],
      "mount_file_id": "1qamMyx1kM0AljGedtpvpnFPdd6vqQ6a-",
      "authorship_tag": "ABX9TyMBRmUI1FLC1CieUDDrmms6",
      "include_colab_link": true
    },
    "kernelspec": {
      "name": "python3",
      "display_name": "Python 3"
    }
  },
  "cells": [
    {
      "cell_type": "markdown",
      "metadata": {
        "id": "view-in-github",
        "colab_type": "text"
      },
      "source": [
        "<a href=\"https://colab.research.google.com/github/SohamSinghal/PythonProjects/blob/master/ML_01.ipynb\" target=\"_parent\"><img src=\"https://colab.research.google.com/assets/colab-badge.svg\" alt=\"Open In Colab\"/></a>"
      ]
    },
    {
      "cell_type": "code",
      "metadata": {
        "id": "CSvjP8UVW4JG"
      },
      "source": [
        "import pandas as pd\n",
        "import numpy as np\n",
        "import matplotlib.pyplot as plt"
      ],
      "execution_count": null,
      "outputs": []
    },
    {
      "cell_type": "code",
      "metadata": {
        "id": "2EwGrdgfYUy_"
      },
      "source": [
        "data = pd.read_csv(\"carprices.csv\")"
      ],
      "execution_count": null,
      "outputs": []
    },
    {
      "cell_type": "code",
      "metadata": {
        "colab": {
          "base_uri": "https://localhost:8080/"
        },
        "id": "D3jATiERC0K0",
        "outputId": "16bf1411-1e96-4561-8ce2-2aaa6021db6e"
      },
      "source": [
        "print(data)"
      ],
      "execution_count": null,
      "outputs": [
        {
          "output_type": "stream",
          "text": [
            "                Car Model  Mileage  Age(yrs)  Sell Price($)\n",
            "0                  BMW X5    69000         6          18000\n",
            "1                  BMW X5    35000         3          34000\n",
            "2                  BMW X5    57000         5          26100\n",
            "3                  BMW X5    22500         2          40000\n",
            "4                  BMW X5    46000         4          31500\n",
            "5                 Audi A5    59000         5          29400\n",
            "6                 Audi A5    52000         5          32000\n",
            "7                 Audi A5    72000         6          19300\n",
            "8                 Audi A5    91000         8          12000\n",
            "9   Mercedez Benz C class    67000         6          22000\n",
            "10  Mercedez Benz C class    83000         7          20000\n",
            "11  Mercedez Benz C class    79000         7          21000\n",
            "12  Mercedez Benz C class    59000         5          33000\n"
          ],
          "name": "stdout"
        }
      ]
    },
    {
      "cell_type": "code",
      "metadata": {
        "id": "AFOntbSmC6MY"
      },
      "source": [
        "x = data.iloc[:,0:-1].values#independent variables\n",
        "y = data.iloc[:,-1].values #dependent variable"
      ],
      "execution_count": null,
      "outputs": []
    },
    {
      "cell_type": "code",
      "metadata": {
        "id": "2ntn4-YIhTHe"
      },
      "source": [
        "print(x)"
      ],
      "execution_count": null,
      "outputs": []
    },
    {
      "cell_type": "code",
      "metadata": {
        "id": "nHcI0mv_hTdw"
      },
      "source": [
        "print(y)"
      ],
      "execution_count": null,
      "outputs": []
    },
    {
      "cell_type": "code",
      "metadata": {
        "id": "BuGLnVBsEUtM"
      },
      "source": [
        "from sklearn.preprocessing import OneHotEncoder\n",
        "from sklearn.compose import ColumnTransformer\n",
        "ct = ColumnTransformer([(\"encode\",OneHotEncoder(),[0])],remainder = \"passthrough\")\n",
        "ct.fit(x)\n",
        "x = np.array(ct.transform(x))"
      ],
      "execution_count": null,
      "outputs": []
    },
    {
      "cell_type": "code",
      "metadata": {
        "id": "wYuNa3vzGp7D"
      },
      "source": [
        "from sklearn.model_selection import train_test_split\n",
        "x_train, x_test, y_train, y_test = train_test_split(x, y, test_size=0.2, random_state=1)\n"
      ],
      "execution_count": null,
      "outputs": []
    },
    {
      "cell_type": "code",
      "metadata": {
        "id": "TnBfnl5YIDsq"
      },
      "source": [
        "from sklearn.linear_model import LinearRegression\n",
        "model_lr = LinearRegression()"
      ],
      "execution_count": null,
      "outputs": []
    },
    {
      "cell_type": "code",
      "metadata": {
        "colab": {
          "base_uri": "https://localhost:8080/"
        },
        "id": "JYspRVhXIRmF",
        "outputId": "ed6507f9-ac8e-4ade-a055-8fb4f537b774"
      },
      "source": [
        "model_lr.fit(x_train,y_train)"
      ],
      "execution_count": null,
      "outputs": [
        {
          "output_type": "execute_result",
          "data": {
            "text/plain": [
              "LinearRegression(copy_X=True, fit_intercept=True, n_jobs=None, normalize=False)"
            ]
          },
          "metadata": {
            "tags": []
          },
          "execution_count": 8
        }
      ]
    },
    {
      "cell_type": "code",
      "metadata": {
        "colab": {
          "base_uri": "https://localhost:8080/"
        },
        "id": "07mstb7ykNOx",
        "outputId": "7de2e5a6-e4f6-47be-9876-c2ecc8b57d86"
      },
      "source": [
        "y_pred = model_lr.predict(x_test)\n",
        "np.set_printoptions(precision=2)\n",
        "print(np.concatenate((y_pred.reshape(len(y_pred),1),y_test.reshape(len(y_test),1)),1))"
      ],
      "execution_count": null,
      "outputs": [
        {
          "output_type": "stream",
          "text": [
            "[[23354.12 26100.  ]\n",
            " [40828.37 40000.  ]\n",
            " [29001.21 31500.  ]]\n"
          ],
          "name": "stdout"
        }
      ]
    }
  ]
}